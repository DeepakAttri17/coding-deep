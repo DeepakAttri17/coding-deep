{
 "cells": [
  {
   "cell_type": "markdown",
   "id": "654b034c-5fce-4cce-b49d-d862bf02cf91",
   "metadata": {
    "tags": []
   },
   "source": [
    "# Data Science Tools and Ecosystem"
   ]
  },
  {
   "cell_type": "markdown",
   "id": "79356f64-2d33-4a5e-a80b-9d8b74f66799",
   "metadata": {},
   "source": [
    "In this notebook, Data Science Tools and Ecosystem are summarized."
   ]
  },
  {
   "cell_type": "markdown",
   "id": "09389315-d034-436b-9000-762672704d04",
   "metadata": {
    "tags": []
   },
   "source": [
    "**Objective:**\n",
    "* Popular languageg in Data Science: PYTHON,R,SQL\n",
    "* Libraries used by data scientist: Pandas, NumPy, Scipy,etc.\n",
    "* Tools: Jupyter, Spyder, Vs code\n",
    "\n",
    "\n",
    "\n"
   ]
  },
  {
   "cell_type": "markdown",
   "id": "03715ace-5840-426b-9fa2-64526e472343",
   "metadata": {},
   "source": [
    "Some of the popular languages that Data Scientists use are:\n",
    "1. Python\n",
    "2. R Language\n",
    "3. SQL"
   ]
  },
  {
   "cell_type": "markdown",
   "id": "7c6d5672-7bbd-4e38-8d9a-23a8b17d56d2",
   "metadata": {},
   "source": [
    "Some of the commonly used libraries used by Data Scientists include:\n",
    "1. Pandas\n",
    "2. NumPy\n",
    "3. SciPy\n",
    "4. TensorFlow\n",
    "5. Matplotlib"
   ]
  },
  {
   "cell_type": "markdown",
   "id": "39741b68-090c-4796-a643-570d900d8937",
   "metadata": {},
   "source": [
    "Create a markdown cell with a table of Data Science tools\n",
    "\n",
    "| Data Science Tools |\n",
    "|   -------------    |\n",
    "| Jupyter |\n",
    "| Spyder |\n",
    "| VS CODE |"
   ]
  },
  {
   "cell_type": "markdown",
   "id": "14bc9b97-a151-4938-a079-92a242a08edd",
   "metadata": {},
   "source": [
    "### Below are a few examples of evaluating arithmetic expressions in Python"
   ]
  },
  {
   "cell_type": "code",
   "execution_count": 15,
   "id": "74859ae9-d49e-4d50-847f-eb4a3133e9fa",
   "metadata": {
    "tags": []
   },
   "outputs": [
    {
     "data": {
      "text/plain": [
       "17"
      ]
     },
     "execution_count": 15,
     "metadata": {},
     "output_type": "execute_result"
    }
   ],
   "source": [
    "# This a simple arithmetic expression to mutiply then add integers.\n",
    "(3*4)+5"
   ]
  },
  {
   "cell_type": "code",
   "execution_count": 16,
   "id": "28d65c67-dd30-4c12-bfd0-48e8f8c3e5a0",
   "metadata": {
    "tags": []
   },
   "outputs": [
    {
     "name": "stdout",
     "output_type": "stream",
     "text": [
      "3.3333333333333335\n"
     ]
    }
   ],
   "source": [
    "# This will convert 200 minutes to hours by diving by 60\n",
    "minutes = 200\n",
    "hours = 200/60\n",
    "print(hours)"
   ]
  },
  {
   "cell_type": "markdown",
   "id": "aeeeeced-56f5-4b32-99da-809bef307215",
   "metadata": {},
   "source": [
    "## Author\n",
    "Deepak Attri"
   ]
  },
  {
   "cell_type": "code",
   "execution_count": null,
   "id": "54638d54-2637-46b7-8b57-acf718f92d14",
   "metadata": {},
   "outputs": [],
   "source": []
  }
 ],
 "metadata": {
  "kernelspec": {
   "display_name": "Python",
   "language": "python",
   "name": "conda-env-python-py"
  },
  "language_info": {
   "codemirror_mode": {
    "name": "ipython",
    "version": 3
   },
   "file_extension": ".py",
   "mimetype": "text/x-python",
   "name": "python",
   "nbconvert_exporter": "python",
   "pygments_lexer": "ipython3",
   "version": "3.7.12"
  }
 },
 "nbformat": 4,
 "nbformat_minor": 5
}
